{
 "cells": [
  {
   "cell_type": "code",
   "execution_count": 2,
   "metadata": {},
   "outputs": [],
   "source": [
    "import sys\n",
    "import os\n",
    "sys.path.append(os.path.abspath('./voidFinderProject'))\n",
    "from voidFinderProject import radius_analisis as ra"
   ]
  },
  {
   "cell_type": "code",
   "execution_count": 6,
   "metadata": {},
   "outputs": [],
   "source": [
    "# =============================================================================\n",
    "# IMPORTS\n",
    "# =============================================================================\n",
    "import pathlib\n",
    "from voidfindertk import io, popcorn, svf_popcorn, core\n",
    "import joblib\n",
    "import numpy as np\n",
    "import pandas as pd\n",
    "import matplotlib.pyplot as plt\n",
    "from scipy.spatial.distance import cdist"
   ]
  },
  {
   "cell_type": "code",
   "execution_count": null,
   "metadata": {},
   "outputs": [],
   "source": [
    "dataset_path = pathlib.Path(\"/home/jorgefederico/updates/vftk_1109/voidFinderProject/datasets\")\n",
    "woking_dir= pathlib.Path(\"/home/jorgefederico/updates/vftk_1109/voidFinderProject/run_popcorn\")\n",
    "\n",
    "d_09_dir = \"tmpw990bohs2024-08-09T18:06:26.180577+00:00\"\n",
    "d_08_dir = \"tmpovse6ej82024-08-21T16:12:49.132243+00:00\"\n",
    "d_07_dir = \"tmplxhn4wcw2024-08-22T01:08:51.465883+00:00\"\n",
    "paths = [\n",
    "    woking_dir / d_09_dir,\n",
    "    woking_dir / d_08_dir,\n",
    "    woking_dir / d_07_dir\n",
    "]"
   ]
  },
  {
   "cell_type": "code",
   "execution_count": null,
   "metadata": {},
   "outputs": [],
   "source": [
    "box = io.read_table(\n",
    "    dataset_path/\"halos_ascii_1000_1024_npmin_10_z0.51.dat\",\n",
    "    names=[\"m\",\"x\", \"y\", \"z\", \"vx\", \"vy\", \"vz\"])"
   ]
  },
  {
   "cell_type": "code",
   "execution_count": null,
   "metadata": {},
   "outputs": [],
   "source": [
    "# pandas data from spherical popcorns\n",
    "df9 = pd.read_csv(woking_dir / d_09_dir / \"sphfile.dat\",names=[\"idx\",\"r\",\"x\",\"y\",\"z\",\"delta\"], delim_whitespace=True)\n",
    "df8 = pd.read_csv(woking_dir / d_08_dir / \"sphfile.dat\",names=[\"idx\",\"r\",\"x\",\"y\",\"z\",\"delta\"], delim_whitespace=True)\n",
    "df7 = pd.read_csv(woking_dir / d_07_dir / \"sphfile.dat\",names=[\"idx\",\"r\",\"x\",\"y\",\"z\",\"delta\"], delim_whitespace=True)\n",
    "\n"
   ]
  },
  {
   "cell_type": "code",
   "execution_count": 9,
   "metadata": {},
   "outputs": [],
   "source": [
    "path = pathlib.Path('/home/jorgefederico/updates/vftk_1109/voidFinderProject')\n",
    "dens = [-0.9,-0.8,-0.7]\n",
    "models = [\n",
    "    path / f\"svf_popcorn_model_2{dens[0]}.pkl\",\n",
    "    path / f\"svf_popcorn_model_2{dens[1]}.pkl\",\n",
    "    path / f\"svf_popcorn_model_2{dens[2]}.pkl\",\n",
    "]"
   ]
  },
  {
   "cell_type": "code",
   "execution_count": 10,
   "metadata": {},
   "outputs": [],
   "source": [
    "model09 = joblib.load(models[0])\n",
    "model08 = joblib.load(models[1])\n",
    "model07 = joblib.load(models[2])\n"
   ]
  },
  {
   "cell_type": "code",
   "execution_count": 13,
   "metadata": {},
   "outputs": [],
   "source": [
    "ef_rad_08 = model08.effective_radius()\n",
    "ef_rad_07 = model07.effective_radius()\n",
    "ef_rad_09 = model09.effective_radius()\n"
   ]
  },
  {
   "cell_type": "code",
   "execution_count": null,
   "metadata": {},
   "outputs": [],
   "source": [
    "# Analisis 09\n",
    "# indice errores\n",
    "e = np.where(ef_rad_09.errors >0)[0]\n",
    "## indice no errores\n",
    "ne = np.where(ef_rad_09.errors ==0)[0]\n",
    "\n",
    "# radios validos con discrepancias\n",
    "# radios popcorn\n",
    "r = np.array(df9[\"r\"])[ne] #df9 dataframe con los datos de svf popcorn\n",
    "# radios calculados por effective_rad\n",
    "r9 = ef_rad_09.radius[ne]\n",
    "\n",
    "# indices de radios discrepantes\n",
    "disc = np.where(np.abs(r-r9)>3)[0]\n",
    "\n",
    "# contraste de densidad integrada\n",
    "delta = (1+dens[0])*(len(box)/(box.size()**3)) #NO SE TOCA"
   ]
  },
  {
   "cell_type": "code",
   "execution_count": null,
   "metadata": {},
   "outputs": [],
   "source": [
    "#disc index\n",
    "disc_indx = 0\n",
    "# exploro mapa de densidad\n",
    "dens_ = ef_rad_09.densities[ne]\n",
    "\n",
    "\n",
    "dens_map = dens_[disc[disc_indx]]\n",
    "n = np.arange(1,len(dens_map)+1)\n",
    "\n",
    "# map the popcorn rad to n\n",
    "n_map = n[np.where(np.abs(n-dens_map*((4/3)*np.pi*(r[disc[disc_indx]]**3)))<0.9)[0]]\n",
    "# map the my value rad to n\n",
    "n_map2 = n[np.where(np.abs(n-dens_map*((4/3)*np.pi*(r9[disc[disc_indx]]**3)))<0.0195)[0]]\n",
    "#plot\n",
    "dots = 40\n",
    "\n",
    "# get radius from density map\n",
    "rad = (n/((4/3)*np.pi*dens_map))**(1/3)"
   ]
  },
  {
   "cell_type": "code",
   "execution_count": null,
   "metadata": {},
   "outputs": [],
   "source": [
    "fix,ax = plt.subplots(1,1,figsize=(12,5))\n",
    "\n",
    "########################\n",
    "ax.scatter(rad[:dots],dens_map[:dots]/(len(box)/(box.size()**3)), s=10.5)\n",
    "ax.axhline(y=delta/(len(box)/(box.size()**3)),color=\"r\")\n",
    "ax.axvline(x=r[disc[disc_indx]],c=\"g\")\n",
    "ax.axvline(x=r9[disc[disc_indx]],c=\"b\")\n",
    "ax.text(r[disc[disc_indx]],delta+0.2*delta,f\"SVFPopCorn \\n r={r[disc[disc_indx]]:.2f}\")\n",
    "ax.text(r9[disc[disc_indx]],delta-0.5*delta,f\"R_eff Method \\n r={r9[disc[disc_indx]]:.2f}\")\n",
    "ax.set_xlabel(r\"$radius$\")\n",
    "#########################\n",
    "plt.savefig(\"analisis_plot.jpg\")\n",
    "plt.close()"
   ]
  },
  {
   "cell_type": "markdown",
   "metadata": {},
   "source": [
    "Basicamente la idea es que en estos 44 ejemplos donde yo no tendria un radio, popcorn detecta que hay un radio. Segun recuerdo popcorn no elije radios a menos que deje por dentro algunas particulas. Asi que la hipotesis es que aunque agregue la periodicidad no estaria viendo algunas particulas.\n",
    "\n",
    "$\\delta = \\frac{\\rho}{\\rho_{med}} - 1$\n",
    "$$(\\delta+1)\\rho_{med}=\\rho$$\n",
    "\n",
    "- El valor de rho medio lo puedo calcular con la caja: $\\rho_{med}=\\frac{N}{l_{x}l_{y}l_{z}}$\n"
   ]
  },
  {
   "cell_type": "code",
   "execution_count": null,
   "metadata": {},
   "outputs": [],
   "source": [
    "# De los centros que encontre dame sus indices asi puedo buscar sus posiciones x,y,z.\n",
    "# e me da el indice de los errores. Ahora busco sus coordenadas con el dataframe:\n",
    "df_e = df9.loc[df9.index.intersection(e)]\n",
    "\n",
    "# La idea es que uno puede estimar el valor de n considerando los valores de densidad usando la ecuacion anterior:\n",
    "df_e[\"density\"] = ((np.array(df_e['delta']))+1)*(len(box)/(box.size()**3))"
   ]
  },
  {
   "cell_type": "markdown",
   "metadata": {},
   "source": [
    "Ahora si puedo calcular la cantidad de particulas que estarian adentro:\n",
    "$\\rho = \\frac{N}{\\frac{4\\pi r^{3}}{3}}$\n",
    "$$\\frac{\\rho 4 \\pi r^{3}}{3}=N$$"
   ]
  },
  {
   "cell_type": "code",
   "execution_count": null,
   "metadata": {},
   "outputs": [],
   "source": [
    "# Hacemos entonces el calculo de arriba\n",
    "n_part = np.round(df_e['density']*(4*np.pi/3)*(df_e['r']**3),2)\n",
    "# Con esto llegaria a la conclusion de que no deberian haber particulas en estos voids.\n",
    "df_e[\"n_tracers\"] = n_part\n",
    "df_e.reset_index(inplace=True)"
   ]
  },
  {
   "cell_type": "markdown",
   "metadata": {},
   "source": [
    "Sin embargo tengo que ser consistente con lo que estoy calculando, asi que priver voy a tener que verificar que lo que estoy haciendo es correcto cuando considero elementos validos."
   ]
  },
  {
   "cell_type": "code",
   "execution_count": null,
   "metadata": {},
   "outputs": [],
   "source": [
    "# Veamos los no errores entonces:\n",
    "df_ne = df9.loc[df9.index.intersection(ne)]\n",
    "# Calculemos las densidades:\n",
    "df_ne[\"density\"] = ((np.array(df_ne['delta']))+1)*(len(box)/(box.size()**3))\n",
    "# Finalmente calculamos el numero de particulas:\n",
    "n_part_ne = np.round(df_ne['density']*(4*np.pi/3)*(df_ne['r']**3),2)"
   ]
  },
  {
   "cell_type": "code",
   "execution_count": null,
   "metadata": {},
   "outputs": [],
   "source": [
    "eindx = 5\n",
    "# exploro mapa de densidad\n",
    "dens_ = ef_rad_09.densities[e]\n",
    "dens_map = np.round(dens_[eindx],6)\n",
    "rad = (n/((4/3)*np.pi*dens_map))**(1/3)\n",
    "\n",
    "####\n",
    "dots = 40\n",
    "fig,ax = plt.subplots(1,1)\n",
    "ax.scatter(rad[:dots],dens_map[:dots]/(len(box)/(box.size()**3)),s=5.5)\n",
    "ax.axhline(y=delta/(len(box)/(box.size()**3)),color=\"r\")\n",
    "ax.set_ylabel(r\"$\\rho$\")\n",
    "ax.set_xlabel(r\"$R$\")\n",
    "plt.savefig(\"errors_plot.jpg\")\n",
    "plt.close()"
   ]
  },
  {
   "cell_type": "code",
   "execution_count": null,
   "metadata": {},
   "outputs": [],
   "source": [
    "\n",
    "\n",
    "# compare radius\n",
    "(r[disc[disc_indx]],r9[disc[disc_indx]])\n"
   ]
  },
  {
   "cell_type": "code",
   "execution_count": null,
   "metadata": {},
   "outputs": [],
   "source": [
    "#check distances\n",
    "x = box.arr_.x\n",
    "y = box.arr_.y\n",
    "z = box.arr_.z\n",
    "xyz = np.column_stack((x,y,z))\n",
    "\n",
    "#centers\n",
    "xyz_c = np.array(df9[[\"x\",\"y\",\"z\"]])[ne][disc[disc_indx]]\n",
    "\n",
    "d = np.sort(cdist([xyz_c],xyz)[0])\n",
    "\n",
    "#recalculo todo\n",
    "n_neighbors= 100\n",
    "n = np.arange(1, n_neighbors + 1)\n",
    "den = (3 * n) / (4 * np.pi * d[:n_neighbors]**3)\n",
    "fig,ax = plt.subplots(1,1)\n",
    "ax.scatter(n[:dots],den[:dots], s=9.5)\n",
    "ax.axhline(y=delta,color=\"r\")\n",
    "plt.savefig(\"dencheck.jpg\")\n",
    "plt.close()"
   ]
  },
  {
   "cell_type": "markdown",
   "metadata": {},
   "source": [
    "# Analisis con los otros dataset\n",
    "Vamos a ver si no existe algo extranio en los otros dataset."
   ]
  },
  {
   "cell_type": "code",
   "execution_count": null,
   "metadata": {},
   "outputs": [],
   "source": [
    "def get_effectiv_rad(path,dens,box):\n",
    "    \"\"\"Genera un modelo de popcorn esferico y lo guarda en un archivo .pkl\n",
    "    Parameters\n",
    "    ----------\n",
    "        path: Path hacia el directiorio donde se encuentran los archivos de la\n",
    "        corrida de SVF popcorn. Comunmente denominado run_work_dir.\n",
    "        dens: Valor de la delta: -0.9,-0.8,-0.7 son valores tipicos.\n",
    "        box: Caja con los trazadores\n",
    "    Returns\n",
    "    -------\n",
    "        None.\n",
    "    \"\"\"\n",
    "\n",
    "    model = svf_popcorn.SVFPopCorn(\n",
    "        workdir=path,\n",
    "        boxsize=1000,\n",
    "        densth=dens,\n",
    "        minradius = 5,\n",
    "        maxradius = 100\n",
    "    )\n",
    "    build_voids_parameters = {\"run_work_dir\": path, \"box\": box}\n",
    "    tracers, centrs, extra = model.build_voids(build_voids_parameters)\n",
    "\n",
    "    voids = core.voids.Voids(\n",
    "    method=\"Popcorn\",\n",
    "    box=box,\n",
    "    tracers_in_voids_=tracers,\n",
    "    centers_=centrs,\n",
    "    extra_=extra,\n",
    "    )\n",
    "    joblib.dump(voids, f\"svf_popcorn_model_2{dens}.pkl\")"
   ]
  },
  {
   "cell_type": "code",
   "execution_count": null,
   "metadata": {},
   "outputs": [],
   "source": [
    "import contextlib\n",
    "import time\n",
    "@contextlib.contextmanager\n",
    "def take_time():\n",
    "    start_time = time.time()\n",
    "    yield start_time\n",
    "    print(\"elapsed: \",time.time()-start_time)"
   ]
  },
  {
   "cell_type": "code",
   "execution_count": null,
   "metadata": {},
   "outputs": [],
   "source": [
    "#Genero un nuevo modelo para delta = -0.8\n",
    "# Recordatorio\n",
    "# paths = [\n",
    "#     woking_dir / d_09_dir,\n",
    "#     woking_dir / d_08_dir,\n",
    "#     woking_dir / d_07_dir\n",
    "# ]\n",
    "get_effectiv_rad(paths[1],dens=-0.8,box=box)\n",
    "\n",
    "# Cargo el modelo que genere:\n",
    "model08 = joblib.load(models[1])\n",
    "\n",
    "# Levanto su dataframe correspondiente:\n",
    "df8 = pd.read_csv(woking_dir / d_08_dir / \"sphfile.dat\",names=[\"idx\",\"r\",\"x\",\"y\",\"z\",\"delta\"], delim_whitespace=True)\n",
    "\n",
    "# Obtenemos los radios efectivos correspondientes\n",
    "with take_time() as tt:\n",
    "    ef_rad_08 = model08.effective_radius(delta=-0.8,n_neighbors=100)\n",
    "# Tener en cuenta que mas o menos erroes pueden aparecer dependiendo del numero de vecinos hechos en tu busqueda.\n",
    "# Tambien puede influir la delta que estas utilizando\n",
    "# indice errores\n",
    "e = np.where(ef_rad_08.errors >0)[0]\n",
    "# indice no errores\n",
    "ne = np.where(ef_rad_08.errors ==0)[0]"
   ]
  },
  {
   "cell_type": "code",
   "execution_count": null,
   "metadata": {},
   "outputs": [],
   "source": [
    "# radios validos con discrepancias\n",
    "\n",
    "# radios popcorn\n",
    "r = np.array(df8[\"r\"])[ne] #df9 dataframe con los datos de svf popcorn\n",
    "# radios calculados por effective_rad\n",
    "r8 = ef_rad_08.radius[ne]\n",
    "\n",
    "# indices de radios discrepantes\n",
    "disc = np.where(np.abs(r-r8)>3)[0]\n"
   ]
  },
  {
   "cell_type": "code",
   "execution_count": null,
   "metadata": {},
   "outputs": [],
   "source": [
    "#disc index\n",
    "disc_indx = 3\n",
    "# exploro mapa de densidad\n",
    "dens_ = ef_rad_08.densities[ne]\n",
    "\n",
    "\n",
    "dens_map = dens_[disc[disc_indx]]\n",
    "n = np.arange(1,len(dens_map)+1)\n",
    "\n",
    "# get radius from density map\n",
    "rad = (n/((4/3)*np.pi*dens_map))**(1/3)\n",
    "delta = (1+dens[1])*(len(box)/(box.size()**3)) #NO SE TOCA"
   ]
  },
  {
   "cell_type": "code",
   "execution_count": null,
   "metadata": {},
   "outputs": [],
   "source": [
    "fix,ax = plt.subplots(1,1,figsize=(12,5))\n",
    "dots=70\n",
    "########################\n",
    "ax.scatter(rad[:dots],dens_map[:dots]/(len(box)/(box.size()**3)), s=10.5)\n",
    "ax.axhline(y=delta/(len(box)/(box.size()**3)),color=\"r\")\n",
    "ax.axvline(x=r[disc[disc_indx]],c=\"g\")\n",
    "ax.axvline(x=r8[disc[disc_indx]],c=\"b\")\n",
    "ax.text(r[disc[disc_indx]],0.3,f\"SVFPopCorn \\n r={r[disc[disc_indx]]:.2f}\")\n",
    "ax.text(r8[disc[disc_indx]],0.2,f\"R_eff Method \\n r={r8[disc[disc_indx]]:.2f}\")\n",
    "ax.set_xlabel(r\"$radius$\")\n",
    "#########################\n",
    "plt.savefig(\"analisis_plot.jpg\")\n",
    "plt.close()"
   ]
  },
  {
   "cell_type": "code",
   "execution_count": null,
   "metadata": {},
   "outputs": [],
   "source": [
    "eindx = 2\n",
    "# exploro mapa de densidad\n",
    "dens_ = ef_rad_08.densities[e]\n",
    "dens_map = np.round(dens_[eindx],6)\n",
    "rad = (n/((4/3)*np.pi*dens_map))**(1/3)\n",
    "\n",
    "####\n",
    "dots = 70\n",
    "fig,ax = plt.subplots(1,1)\n",
    "ax.scatter(rad[:dots],dens_map[:dots]/(len(box)/(box.size()**3)),s=5.5)\n",
    "ax.axhline(y=delta/(len(box)/(box.size()**3)),color=\"r\")\n",
    "ax.axvline(x=df8['r'][e[eindx]])\n",
    "ax.text(df8['r'][e[eindx]],0.2,f\"PopCorn \\n r={df8['r'][e[eindx]]:.2f}\")\n",
    "ax.set_ylabel(r\"$\\rho$\")\n",
    "ax.set_xlabel(r\"$R$\")\n",
    "plt.savefig(\"errors_plot.jpg\")\n",
    "plt.close()"
   ]
  },
  {
   "cell_type": "markdown",
   "metadata": {},
   "source": [
    "Como veo cosas raras tengo que acudir al dataframe y asegurarme que veo lo mismo"
   ]
  },
  {
   "cell_type": "code",
   "execution_count": null,
   "metadata": {},
   "outputs": [],
   "source": [
    "df_e = df8.loc[df8.index.intersection(e)]\n",
    "\n",
    "# La idea es que uno puede estimar el valor de n considerando los valores de densidad usando la ecuacion anterior:\n",
    "df_e[\"density\"] = ((np.array(df_e['delta']))+1)*(len(box)/(box.size()**3))\n",
    "\n",
    "# errores\n",
    "n_part = np.round(df_e['density']*(4*np.pi/3)*(df_e['r']**3),2)\n",
    "df_e[\"n_tracers\"] = n_part\n",
    "df_e.reset_index(inplace=True)\n",
    "df_e.loc[eindx,:]\n",
    "\n",
    "# Veamos los no errores entonces:\n",
    "df_ne = df8.loc[df8.index.intersection(ne)]\n",
    "# Calculemos las densidades:\n",
    "df_ne[\"density\"] = ((np.array(df_ne['delta']))+1)*(len(box)/(box.size()**3))\n",
    "# Finalmente calculamos el numero de particulas:\n",
    "n_part_ne = np.round(df_ne['density']*(4*np.pi/3)*(df_ne['r']**3),2)\n",
    "df_ne[\"n_tracers\"] = n_part_ne\n",
    "df_ne.reset_index(inplace=True)\n",
    "\n",
    "# Busco en el dataframe segun las discrepancias\n",
    "df_ne.loc[disc[disc_indx],:]\n"
   ]
  },
  {
   "cell_type": "markdown",
   "metadata": {},
   "source": [
    "Debugging"
   ]
  },
  {
   "cell_type": "code",
   "execution_count": null,
   "metadata": {},
   "outputs": [],
   "source": [
    "from voidfindertk.core import vsf\n",
    "centers_xyz = np.array(df8[['x','y','z']])\n",
    "vsf.effective_radius(centers_xyz, box, delta=-0.9, n_neighbors=100, n_cells=64)\n"
   ]
  }
 ],
 "metadata": {
  "kernelspec": {
   "display_name": "vfproject",
   "language": "python",
   "name": "python3"
  },
  "language_info": {
   "codemirror_mode": {
    "name": "ipython",
    "version": 3
   },
   "file_extension": ".py",
   "mimetype": "text/x-python",
   "name": "python",
   "nbconvert_exporter": "python",
   "pygments_lexer": "ipython3",
   "version": "3.12.0"
  }
 },
 "nbformat": 4,
 "nbformat_minor": 2
}
